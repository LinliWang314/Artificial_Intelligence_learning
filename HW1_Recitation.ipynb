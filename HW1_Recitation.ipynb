{
  "nbformat": 4,
  "nbformat_minor": 0,
  "metadata": {
    "colab": {
      "provenance": []
    },
    "kernelspec": {
      "name": "python3",
      "display_name": "Python 3"
    },
    "language_info": {
      "name": "python"
    }
  },
  "cells": [
    {
      "cell_type": "markdown",
      "source": [
        "List Comprehension"
      ],
      "metadata": {
        "id": "PGjjdRS3X4XA"
      }
    },
    {
      "cell_type": "code",
      "execution_count": null,
      "metadata": {
        "colab": {
          "base_uri": "https://localhost:8080/"
        },
        "id": "4j-9GadyXqsk",
        "outputId": "84bae734-ffe7-4c0f-edde-2c397ea34bfb"
      },
      "outputs": [
        {
          "output_type": "stream",
          "name": "stdout",
          "text": [
            "[0, 1, 4, 9, 16, 25, 36]\n"
          ]
        }
      ],
      "source": [
        "nums = [0, 1, 2, 3, 4, 5, 6]\n",
        "squares = []\n",
        "for num in nums:\n",
        "\n",
        "  squares.append(num*num)\n",
        "print(squares)"
      ]
    },
    {
      "cell_type": "code",
      "source": [
        "print([x * x for x in nums])"
      ],
      "metadata": {
        "colab": {
          "base_uri": "https://localhost:8080/"
        },
        "id": "qK9iriuPYCSm",
        "outputId": "01e27dc1-38a7-4b1d-c871-dc12bff39dc6"
      },
      "execution_count": null,
      "outputs": [
        {
          "output_type": "stream",
          "name": "stdout",
          "text": [
            "[0, 1, 4, 9, 16, 25, 36]\n"
          ]
        }
      ]
    },
    {
      "cell_type": "markdown",
      "source": [
        "Generators"
      ],
      "metadata": {
        "id": "vxnv3wygZCnW"
      }
    },
    {
      "cell_type": "code",
      "source": [
        "def gen():\n",
        "\n",
        "  yield 1\n",
        "  yield 2\n",
        "  yield 3"
      ],
      "metadata": {
        "id": "8g-pWLp0YGmY"
      },
      "execution_count": null,
      "outputs": []
    },
    {
      "cell_type": "code",
      "source": [
        "for i in gen():\n",
        "  print(i)"
      ],
      "metadata": {
        "colab": {
          "base_uri": "https://localhost:8080/"
        },
        "id": "AVFdd531YNny",
        "outputId": "f590646e-a764-4007-9234-f8b679e24758"
      },
      "execution_count": null,
      "outputs": [
        {
          "output_type": "stream",
          "name": "stdout",
          "text": [
            "1\n",
            "2\n",
            "3\n"
          ]
        }
      ]
    },
    {
      "cell_type": "code",
      "source": [
        "def gen2():\n",
        "  n = 2\n",
        "  yield n\n",
        "  n = n+4\n",
        "  yield n\n",
        "  n = n*n\n",
        "  yield n\n",
        "\n",
        "print([i for i in gen2()])"
      ],
      "metadata": {
        "colab": {
          "base_uri": "https://localhost:8080/"
        },
        "id": "yo6ah8QFY_6C",
        "outputId": "5d15bd11-744a-4c8f-a7e1-b4ff330b9332"
      },
      "execution_count": null,
      "outputs": [
        {
          "output_type": "stream",
          "name": "stdout",
          "text": [
            "[2, 6, 36]\n"
          ]
        }
      ]
    },
    {
      "cell_type": "markdown",
      "source": [
        "Dictionaries"
      ],
      "metadata": {
        "id": "xDhNC4-uaL5x"
      }
    },
    {
      "cell_type": "code",
      "source": [
        "fruits = {}\n",
        "\n",
        "fruits['Apple'] = 1.5\n",
        "fruits['Banana'] = 2.0\n",
        "fruits['Mango'] = 3.3"
      ],
      "metadata": {
        "id": "Fvr4qlelZT0l"
      },
      "execution_count": null,
      "outputs": []
    },
    {
      "cell_type": "code",
      "source": [
        "fruits['Mango']"
      ],
      "metadata": {
        "colab": {
          "base_uri": "https://localhost:8080/"
        },
        "id": "FUpJsn7aZle_",
        "outputId": "0a61f00c-9866-4f66-bcdb-0bc489c851a8"
      },
      "execution_count": null,
      "outputs": [
        {
          "output_type": "execute_result",
          "data": {
            "text/plain": [
              "3.3"
            ]
          },
          "metadata": {},
          "execution_count": 17
        }
      ]
    },
    {
      "cell_type": "code",
      "source": [
        "fruits.keys()"
      ],
      "metadata": {
        "colab": {
          "base_uri": "https://localhost:8080/"
        },
        "id": "YBLoH13uZngh",
        "outputId": "1f164bff-fc1c-4016-f38f-d95f5c66a735"
      },
      "execution_count": null,
      "outputs": [
        {
          "output_type": "execute_result",
          "data": {
            "text/plain": [
              "dict_keys(['Apple', 'Banana', 'Mango'])"
            ]
          },
          "metadata": {},
          "execution_count": 18
        }
      ]
    },
    {
      "cell_type": "code",
      "source": [
        "fruits.values()"
      ],
      "metadata": {
        "colab": {
          "base_uri": "https://localhost:8080/"
        },
        "id": "bq2twRcPZpDh",
        "outputId": "fa953fa6-c3e4-4936-b5f0-f5dc6f54afe5"
      },
      "execution_count": null,
      "outputs": [
        {
          "output_type": "execute_result",
          "data": {
            "text/plain": [
              "dict_values([1.5, 2.0, 3.3])"
            ]
          },
          "metadata": {},
          "execution_count": 19
        }
      ]
    },
    {
      "cell_type": "code",
      "source": [
        "fruits.items()"
      ],
      "metadata": {
        "colab": {
          "base_uri": "https://localhost:8080/"
        },
        "id": "anBVkgnsZrFE",
        "outputId": "89c0dfca-d3bc-4f60-c7a6-de7bfa5de1d4"
      },
      "execution_count": null,
      "outputs": [
        {
          "output_type": "execute_result",
          "data": {
            "text/plain": [
              "dict_items([('Apple', 1.5), ('Banana', 2.0), ('Mango', 3.3)])"
            ]
          },
          "metadata": {},
          "execution_count": 20
        }
      ]
    },
    {
      "cell_type": "code",
      "source": [
        "fruits['Strawberry']"
      ],
      "metadata": {
        "colab": {
          "base_uri": "https://localhost:8080/",
          "height": 176
        },
        "id": "2JOTFyGDZsWn",
        "outputId": "60bd1976-559a-4646-8e21-c199c0ec55c9"
      },
      "execution_count": null,
      "outputs": [
        {
          "output_type": "error",
          "ename": "KeyError",
          "evalue": "ignored",
          "traceback": [
            "\u001b[0;31m---------------------------------------------------------------------------\u001b[0m",
            "\u001b[0;31mKeyError\u001b[0m                                  Traceback (most recent call last)",
            "\u001b[0;32m<ipython-input-21-309038782ed1>\u001b[0m in \u001b[0;36m<cell line: 1>\u001b[0;34m()\u001b[0m\n\u001b[0;32m----> 1\u001b[0;31m \u001b[0mfruits\u001b[0m\u001b[0;34m[\u001b[0m\u001b[0;34m'Strawberry'\u001b[0m\u001b[0;34m]\u001b[0m\u001b[0;34m\u001b[0m\u001b[0;34m\u001b[0m\u001b[0m\n\u001b[0m",
            "\u001b[0;31mKeyError\u001b[0m: 'Strawberry'"
          ]
        }
      ]
    },
    {
      "cell_type": "code",
      "source": [
        "from collections import defaultdict\n",
        "new_fruits = defaultdict(lambda: 10)\n",
        "new_fruits['Apple'] = 1.5\n",
        "new_fruits['Banana'] = 2.0\n",
        "new_fruits['Mango'] = 3.3"
      ],
      "metadata": {
        "id": "J9YtE0f0Zv6y"
      },
      "execution_count": null,
      "outputs": []
    },
    {
      "cell_type": "code",
      "source": [
        "new_fruits"
      ],
      "metadata": {
        "colab": {
          "base_uri": "https://localhost:8080/"
        },
        "id": "nCEi5u5k-Y3m",
        "outputId": "98610697-0aa2-40da-f752-9fb4bb663410"
      },
      "execution_count": null,
      "outputs": [
        {
          "output_type": "execute_result",
          "data": {
            "text/plain": [
              "defaultdict(<function __main__.<lambda>()>,\n",
              "            {'Apple': 1.5, 'Banana': 2.0, 'Mango': 3.3})"
            ]
          },
          "metadata": {},
          "execution_count": 27
        }
      ]
    },
    {
      "cell_type": "code",
      "source": [
        "new_fruits['Strawberry']"
      ],
      "metadata": {
        "colab": {
          "base_uri": "https://localhost:8080/"
        },
        "id": "MUtcXREjZ7zJ",
        "outputId": "5a7cd4b6-1787-4199-b9e9-d6ca8d77433b"
      },
      "execution_count": null,
      "outputs": [
        {
          "output_type": "execute_result",
          "data": {
            "text/plain": [
              "10"
            ]
          },
          "metadata": {},
          "execution_count": 28
        }
      ]
    },
    {
      "cell_type": "code",
      "source": [
        "new_fruits.items()"
      ],
      "metadata": {
        "colab": {
          "base_uri": "https://localhost:8080/"
        },
        "id": "GBI4RxoeZ96D",
        "outputId": "d767b7f8-d677-4c6c-f6cb-d8911ede02cb"
      },
      "execution_count": null,
      "outputs": [
        {
          "output_type": "execute_result",
          "data": {
            "text/plain": [
              "dict_items([('Apple', 1.5), ('Banana', 2.0), ('Mango', 3.3), ('Strawberry', 10)])"
            ]
          },
          "metadata": {},
          "execution_count": 29
        }
      ]
    },
    {
      "cell_type": "markdown",
      "source": [
        "Iterations"
      ],
      "metadata": {
        "id": "HHDP0Op0aN-f"
      }
    },
    {
      "cell_type": "code",
      "source": [
        "def ifcondition():\n",
        "  for n in range(4):\n",
        "    if n == 0:\n",
        "      print(f\"First statement passed for n = {n}\")\n",
        "      pass\n",
        "    if n <= 1:\n",
        "      print(f\"Second Statement passed for n = {n}\")\n",
        "      continue\n",
        "    if n <= 2:\n",
        "      print(f\"Third Statement passed for n = {n}\")\n",
        "      break"
      ],
      "metadata": {
        "id": "Fsri-hHRZ_WA"
      },
      "execution_count": null,
      "outputs": []
    },
    {
      "cell_type": "code",
      "source": [
        "ifcondition()"
      ],
      "metadata": {
        "colab": {
          "base_uri": "https://localhost:8080/"
        },
        "id": "G8ytfK6Va3KQ",
        "outputId": "053a306b-7125-4df7-c203-256356c043a8"
      },
      "execution_count": null,
      "outputs": [
        {
          "output_type": "stream",
          "name": "stdout",
          "text": [
            "First statement passed for n = 0\n",
            "Second Statement passed for n = 0\n",
            "Second Statement passed for n = 1\n",
            "Third Statement passed for n = 2\n"
          ]
        }
      ]
    },
    {
      "cell_type": "code",
      "source": [
        "import nltk\n",
        "nltk.download('stopwords')\n",
        "nltk.download('punkt')\n",
        "nltk.download('averaged_perceptron_tagger')"
      ],
      "metadata": {
        "colab": {
          "base_uri": "https://localhost:8080/"
        },
        "id": "jXL73Dvxa49Q",
        "outputId": "4489d86f-cc5c-4703-b533-415c5d73ea9c"
      },
      "execution_count": null,
      "outputs": [
        {
          "output_type": "stream",
          "name": "stderr",
          "text": [
            "[nltk_data] Downloading package stopwords to /root/nltk_data...\n",
            "[nltk_data]   Package stopwords is already up-to-date!\n",
            "[nltk_data] Downloading package punkt to /root/nltk_data...\n",
            "[nltk_data]   Package punkt is already up-to-date!\n",
            "[nltk_data] Downloading package averaged_perceptron_tagger to\n",
            "[nltk_data]     /root/nltk_data...\n",
            "[nltk_data]   Package averaged_perceptron_tagger is already up-to-\n",
            "[nltk_data]       date!\n"
          ]
        },
        {
          "output_type": "execute_result",
          "data": {
            "text/plain": [
              "True"
            ]
          },
          "metadata": {},
          "execution_count": 32
        }
      ]
    },
    {
      "cell_type": "code",
      "source": [
        "from nltk.corpus import stopwords\n",
        "print(len(stopwords.words()))"
      ],
      "metadata": {
        "colab": {
          "base_uri": "https://localhost:8080/"
        },
        "id": "KFuzRDV6i6OO",
        "outputId": "506d70aa-cd36-434a-e55b-c46a835660a4"
      },
      "execution_count": null,
      "outputs": [
        {
          "output_type": "stream",
          "name": "stdout",
          "text": [
            "10405\n"
          ]
        }
      ]
    },
    {
      "cell_type": "code",
      "source": [
        "print(\"penn\" in stopwords.words())"
      ],
      "metadata": {
        "colab": {
          "base_uri": "https://localhost:8080/"
        },
        "id": "CPXAq6JWjBZH",
        "outputId": "e8fb980d-ddd8-4c1f-cb87-32783524650b"
      },
      "execution_count": null,
      "outputs": [
        {
          "output_type": "stream",
          "name": "stdout",
          "text": [
            "False\n"
          ]
        }
      ]
    },
    {
      "cell_type": "code",
      "source": [],
      "metadata": {
        "id": "3f0TuNhPjPG2"
      },
      "execution_count": null,
      "outputs": []
    }
  ]
}